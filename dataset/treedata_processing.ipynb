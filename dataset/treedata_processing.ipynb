{
 "cells": [
  {
   "cell_type": "code",
   "execution_count": 1,
   "id": "232eaac4-e464-413d-a71e-3ebc5e54bc6e",
   "metadata": {},
   "outputs": [],
   "source": [
    "import numpy as np\n",
    "import pandas as pd\n",
    "import matplotlib as plt\n",
    "import seaborn as sns\n",
    "from sklearn.model_selection import train_test_split\n",
    "import json"
   ]
  },
  {
   "cell_type": "code",
   "execution_count": 2,
   "id": "31c672e7-74c1-4bad-b9fa-dd99815683ef",
   "metadata": {},
   "outputs": [],
   "source": [
    "df=pd.read_csv('train.csv')"
   ]
  },
  {
   "cell_type": "code",
   "execution_count": 3,
   "id": "826aeb32-9740-49bd-88c3-6cb9d2d854c2",
   "metadata": {},
   "outputs": [],
   "source": [
    "cols_to_drop = [\n",
    "        'Id', 'MSSubClass', 'Alley', 'MiscFeature', 'PoolQC', 'BsmtQual', \n",
    "        'BsmtCond', 'BsmtExposure', 'BsmtFinType1', 'BsmtFinSF1', \n",
    "        'BsmtFinType2', 'BsmtFinSF2', 'BsmtUnfSF', 'TotalBsmtSF', \n",
    "        'BsmtFullBath', 'BsmtHalfBath', \n",
    "        'Heating', 'HeatingQC', \n",
    "        'WoodDeckSF', 'OpenPorchSF', 'EnclosedPorch', \n",
    "        '3SsnPorch', 'ScreenPorch', \n",
    "        'SaleType', 'SaleCondition', 'Fence', 'Electrical', 'FireplaceQu', \n",
    "        'Fireplaces', 'PoolArea', 'CentralAir', 'MoSold', 'PavedDrive', 'Condition1', 'Condition2',\n",
    "        'HouseStyle', 'RoofStyle', 'RoofMatl', 'Functional', 'GarageFinish', 'GarageCond', 'GarageYrBlt'\n",
    "        'Exterior2nd', 'MasVnrType', 'YearRemodAdd', 'MasVnrArea', '1stFlrSF', '2ndFlrSF', 'LowQualFinSF',\n",
    "        'TotRmsAbvGrd', 'GarageYrBlt', 'GarageArea', 'YrSold'\n",
    "    ]\n",
    "\n",
    "\n",
    "df = df.drop(columns=cols_to_drop, errors='ignore')"
   ]
  },
  {
   "cell_type": "code",
   "execution_count": 4,
   "id": "5829e5f1-17d7-4af8-a56f-a8a2488f2676",
   "metadata": {},
   "outputs": [],
   "source": [
    "df = df[~(df[['FullBath', 'BedroomAbvGr', 'KitchenAbvGr']] == 0).any(axis=1)]"
   ]
  },
  {
   "cell_type": "code",
   "execution_count": 5,
   "id": "e7a11062-3dde-4896-b4ef-3d80bb14af47",
   "metadata": {},
   "outputs": [
    {
     "name": "stdout",
     "output_type": "stream",
     "text": [
      "0\n"
     ]
    }
   ],
   "source": [
    "moda_del_barrio = df.groupby('Neighborhood')['LotFrontage'].agg(lambda x: x.mode()[0])\n",
    "\n",
    "## Reemplazo los valores nulos por el valor de moda del barrio\n",
    "df = df.copy()\n",
    "df['LotFrontage'] = df['LotFrontage'].fillna(df['Neighborhood'].map(moda_del_barrio))\n",
    "\n",
    "print(df['LotFrontage'].isnull().sum())"
   ]
  },
  {
   "cell_type": "code",
   "execution_count": 6,
   "id": "27b80546-69f4-403e-a2da-7441bcc492d6",
   "metadata": {},
   "outputs": [
    {
     "name": "stdout",
     "output_type": "stream",
     "text": [
      "30\n"
     ]
    }
   ],
   "source": [
    "df.columns\n",
    "print(len(df.columns))"
   ]
  },
  {
   "cell_type": "code",
   "execution_count": 7,
   "id": "2754ec44-697c-483e-9270-b1b99eec15d0",
   "metadata": {},
   "outputs": [],
   "source": [
    "cols_num = [col for col, dtype in df.dtypes.items() if dtype == 'float64' or dtype == 'int64']\n",
    "\n",
    "df_num = df[cols_num].copy()\n",
    "\n",
    "cols_ordinales = [\n",
    "    'Utilities', 'ExterQual',  'KitchenQual', 'GarageQual', \n",
    "    'Neighborhood', 'ExterCond'\n",
    "]\n",
    "\n",
    "df_ord = df[cols_ordinales].copy() \n",
    "\n",
    "utilities_orden = {\n",
    "    'ELO': 1,       # Electricity only\n",
    "    'NoSeWa': 2,    # Electricity and Gas Only\n",
    "    'NoSewr': 3,    # Electricity, Gas, and Water (Septic Tank)\n",
    "    'AllPub': 4     # All public Utilities (E,G,W,& S)\n",
    "}\n",
    "\n",
    "df_ord['Utilities'] = df_ord['Utilities'].astype(\"category\")\n",
    "df_ord['Utilities'] = df_ord['Utilities'].cat.set_categories(utilities_orden, ordered=True)\n",
    "df_ord['Utilities'] = df_ord['Utilities'].cat.codes\n",
    "\n",
    "exterqual_orden = {\n",
    "    'Po': 1,  # Poor\n",
    "    'Fa': 2,  # Fair\n",
    "    'TA': 3,  # Average/Typical\n",
    "    'Gd': 4,  # Good\n",
    "    'Ex': 5   # Excellent\n",
    "}\n",
    "\n",
    "df_ord['ExterQual'] = df_ord['ExterQual'].astype(\"category\")\n",
    "df_ord['ExterQual'] = df_ord['ExterQual'].cat.set_categories(exterqual_orden, ordered=True)\n",
    "df_ord['ExterQual'] = df_ord['ExterQual'].cat.codes\n",
    "\n",
    "\n",
    "\n",
    "kitchenqual_orden = {\n",
    "    'Po': 1,  # Poor\n",
    "    'Fa': 2,  # Fair\n",
    "    'TA': 3,  # Typical/Average\n",
    "    'Gd': 4,  # Good\n",
    "    'Ex': 5   # Excellent\n",
    "}\n",
    "\n",
    "df_ord['KitchenQual'] = df_ord['KitchenQual'].astype(\"category\")\n",
    "df_ord['KitchenQual'] = df_ord['KitchenQual'].cat.set_categories(kitchenqual_orden, ordered=True)\n",
    "df_ord['KitchenQual'] = df_ord['KitchenQual'].cat.codes\n",
    "\n",
    "\n",
    "\n",
    "\n",
    "\n",
    "\n",
    "garagequal_orden = {\n",
    "    'NoGarage': 0,  # No Garage\n",
    "    'Po': 1,        # Poor\n",
    "    'Fa': 2,        # Fair\n",
    "    'TA': 3,        # Typical/Average\n",
    "    'Gd': 4,        # Good\n",
    "    'Ex': 5         # Excellent\n",
    "}\n",
    "\n",
    "df_ord['GarageQual'] = df_ord['GarageQual'].astype(\"category\")\n",
    "df_ord['GarageQual'] = df_ord['GarageQual'].cat.set_categories(garagequal_orden, ordered=True)\n",
    "df_ord['GarageQual'] = df_ord['GarageQual'].cat.codes\n",
    "\n",
    "\n",
    "extercond_orden = {\n",
    "    'Po': 1,  # Poor\n",
    "    'Fa': 2,  # Fair\n",
    "    'TA': 3,  # Average/Typical\n",
    "    'Gd': 4,  # Good\n",
    "    'Ex': 5   # Excellent\n",
    "}\n",
    "\n",
    "df_ord['ExterCond'] = df_ord['ExterCond'].astype(\"category\")\n",
    "df_ord['ExterCond'] = df_ord['ExterCond'].cat.set_categories(extercond_orden, ordered=True)\n",
    "df_ord['ExterCond'] = df_ord['ExterCond'].cat.codes\n",
    "\n",
    "neighborhood_orden = {\n",
    "    'Green': 1,\n",
    "    'Yellow': 2,\n",
    "    'Orange': 3\n",
    "}\n",
    "\n",
    "df_ord['Neighborhood'] = df_ord['Neighborhood'].astype(\"category\")\n",
    "df_ord['Neighborhood'] = df_ord['Neighborhood'].cat.set_categories(neighborhood_orden, ordered=True)\n",
    "df_ord['Neighborhood'] = df_ord['Neighborhood'].cat.codes\n",
    "\n",
    "\n",
    "\n",
    "cols_nominales = [\n",
    "        'MSZoning', 'Street', 'LotShape', 'LandContour', 'LotConfig', 'LandSlope', \n",
    "        'BldgType', 'Exterior1st', 'Foundation', \n",
    "         'GarageType'\n",
    "    ]\n",
    "\n",
    "df_nomi = df[cols_nominales].copy()\n",
    "\n",
    "df_nomi = pd.get_dummies(df_nomi, drop_first=True)"
   ]
  },
  {
   "cell_type": "code",
   "execution_count": 8,
   "id": "f4786b44-7022-4426-aeb0-3f76bb3c0f8a",
   "metadata": {},
   "outputs": [],
   "source": [
    "df_tree_ready = pd.concat([df_num, df_ord, df_nomi], axis=1 )"
   ]
  },
  {
   "cell_type": "code",
   "execution_count": 9,
   "id": "68f9a9d5-3c68-458e-8104-37e514593418",
   "metadata": {},
   "outputs": [
    {
     "name": "stdout",
     "output_type": "stream",
     "text": [
      "Series([], dtype: int64)\n"
     ]
    }
   ],
   "source": [
    "print(df_tree_ready.isnull().sum()[df_tree_ready.isnull().sum() > 0])"
   ]
  },
  {
   "cell_type": "code",
   "execution_count": 10,
   "id": "7a26fe36-b684-4782-99aa-70504ce5e7c8",
   "metadata": {},
   "outputs": [],
   "source": [
    "X = df_tree_ready.drop(columns=['SalePrice'])\n",
    "y = df_tree_ready['SalePrice']\n",
    "\n",
    "X_train, X_test, y_train, y_test = train_test_split(X, y, test_size=0.2, random_state=42)"
   ]
  },
  {
   "cell_type": "code",
   "execution_count": 11,
   "id": "d60a1c06-a57f-4293-a547-58f0431fcd29",
   "metadata": {},
   "outputs": [],
   "source": [
    "output_folder = \"processed_data/rf\"\n",
    "\n",
    "X_train.to_pickle(f\"{output_folder}/Xrf_train.pkl\")\n",
    "X_test.to_pickle(f\"{output_folder}/Xrf_test.pkl\")\n",
    "\n",
    "# Export train and test target variables\n",
    "y_train.to_pickle(f\"{output_folder}/yrf_train.pkl\")\n",
    "y_test.to_pickle(f\"{output_folder}/yrf_test.pkl\")"
   ]
  },
  {
   "cell_type": "code",
   "execution_count": 12,
   "id": "86019fd3-7ea4-4d06-9e04-e636e76fb2bf",
   "metadata": {},
   "outputs": [
    {
     "name": "stdout",
     "output_type": "stream",
     "text": [
      "\n"
     ]
    }
   ],
   "source": [
    "feature_names = list(X_train.columns)\n",
    "print()\n",
    "\n",
    "# Save to JSON\n",
    "with open(\"xg_features.json\", \"w\") as f:\n",
    "    json.dump(feature_names, f)"
   ]
  },
  {
   "cell_type": "code",
   "execution_count": 13,
   "id": "a9550cba-df07-4e23-9130-859f7074d868",
   "metadata": {},
   "outputs": [
    {
     "name": "stdout",
     "output_type": "stream",
     "text": [
      "['LotFrontage', 'LotArea', 'OverallQual', 'OverallCond', 'YearBuilt', 'GrLivArea', 'FullBath', 'HalfBath', 'BedroomAbvGr', 'KitchenAbvGr', 'GarageCars', 'MiscVal', 'Utilities', 'ExterQual', 'KitchenQual', 'GarageQual', 'Neighborhood', 'ExterCond', 'MSZoning_FV', 'MSZoning_RH', 'MSZoning_RL', 'MSZoning_RM', 'Street_Pave', 'LotShape_IR2', 'LotShape_IR3', 'LotShape_Reg', 'LandContour_HLS', 'LandContour_Low', 'LandContour_Lvl', 'LotConfig_CulDSac', 'LotConfig_FR2', 'LotConfig_FR3', 'LotConfig_Inside', 'LandSlope_Mod', 'LandSlope_Sev', 'BldgType_2fmCon', 'BldgType_Duplex', 'BldgType_Twnhs', 'BldgType_TwnhsE', 'Exterior1st_AsphShn', 'Exterior1st_BrkComm', 'Exterior1st_BrkFace', 'Exterior1st_CBlock', 'Exterior1st_CemntBd', 'Exterior1st_HdBoard', 'Exterior1st_ImStucc', 'Exterior1st_MetalSd', 'Exterior1st_Plywood', 'Exterior1st_Stone', 'Exterior1st_Stucco', 'Exterior1st_VinylSd', 'Exterior1st_Wd Sdng', 'Exterior1st_WdShing', 'Foundation_CBlock', 'Foundation_PConc', 'Foundation_Slab', 'Foundation_Stone', 'Foundation_Wood', 'GarageType_Attchd', 'GarageType_Basment', 'GarageType_BuiltIn', 'GarageType_CarPort', 'GarageType_Detchd']\n"
     ]
    }
   ],
   "source": [
    "print(feature_names)"
   ]
  },
  {
   "cell_type": "code",
   "execution_count": 14,
   "id": "be510894-837c-4727-b710-8bec98fb9104",
   "metadata": {},
   "outputs": [
    {
     "name": "stdout",
     "output_type": "stream",
     "text": [
      "['LotFrontage', 'LotArea', 'OverallQual', 'OverallCond', 'YearBuilt', 'GrLivArea', 'FullBath', 'HalfBath', 'BedroomAbvGr', 'KitchenAbvGr', 'GarageCars', 'MiscVal', 'Utilities', 'ExterQual', 'KitchenQual', 'GarageQual', 'Neighborhood', 'ExterCond', 'MSZoning_FV', 'MSZoning_RH', 'MSZoning_RL', 'MSZoning_RM', 'Street_Pave', 'LotShape_IR2', 'LotShape_IR3', 'LotShape_Reg', 'LandContour_HLS', 'LandContour_Low', 'LandContour_Lvl', 'LotConfig_CulDSac', 'LotConfig_FR2', 'LotConfig_FR3', 'LotConfig_Inside', 'LandSlope_Mod', 'LandSlope_Sev', 'BldgType_2fmCon', 'BldgType_Duplex', 'BldgType_Twnhs', 'BldgType_TwnhsE', 'Exterior1st_AsphShn', 'Exterior1st_BrkComm', 'Exterior1st_BrkFace', 'Exterior1st_CBlock', 'Exterior1st_CemntBd', 'Exterior1st_HdBoard', 'Exterior1st_ImStucc', 'Exterior1st_MetalSd', 'Exterior1st_Plywood', 'Exterior1st_Stone', 'Exterior1st_Stucco', 'Exterior1st_VinylSd', 'Exterior1st_Wd Sdng', 'Exterior1st_WdShing', 'Foundation_CBlock', 'Foundation_PConc', 'Foundation_Slab', 'Foundation_Stone', 'Foundation_Wood', 'GarageType_Attchd', 'GarageType_Basment', 'GarageType_BuiltIn', 'GarageType_CarPort', 'GarageType_Detchd']\n"
     ]
    }
   ],
   "source": [
    "print(list(X_test.columns))"
   ]
  },
  {
   "cell_type": "code",
   "execution_count": null,
   "id": "b7b0ad36-3c56-4ca3-8909-e9b0e091245f",
   "metadata": {},
   "outputs": [],
   "source": []
  }
 ],
 "metadata": {
  "kernelspec": {
   "display_name": "Python 3 (ipykernel)",
   "language": "python",
   "name": "python3"
  },
  "language_info": {
   "codemirror_mode": {
    "name": "ipython",
    "version": 3
   },
   "file_extension": ".py",
   "mimetype": "text/x-python",
   "name": "python",
   "nbconvert_exporter": "python",
   "pygments_lexer": "ipython3",
   "version": "3.12.3"
  }
 },
 "nbformat": 4,
 "nbformat_minor": 5
}
