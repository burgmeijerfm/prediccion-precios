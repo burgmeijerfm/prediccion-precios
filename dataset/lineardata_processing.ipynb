{
 "cells": [
  {
   "cell_type": "code",
   "execution_count": 1,
   "id": "232eaac4-e464-413d-a71e-3ebc5e54bc6e",
   "metadata": {},
   "outputs": [],
   "source": [
    "import numpy as np\n",
    "import pandas as pd\n",
    "import matplotlib as plt\n",
    "import seaborn as sns\n",
    "from sklearn.model_selection import train_test_split\n",
    "from sklearn.preprocessing import StandardScaler\n",
    "import joblib\n",
    "import json"
   ]
  },
  {
   "cell_type": "code",
   "execution_count": 2,
   "id": "31c672e7-74c1-4bad-b9fa-dd99815683ef",
   "metadata": {},
   "outputs": [],
   "source": [
    "df=pd.read_csv('train.csv')"
   ]
  },
  {
   "cell_type": "code",
   "execution_count": 3,
   "id": "826aeb32-9740-49bd-88c3-6cb9d2d854c2",
   "metadata": {},
   "outputs": [],
   "source": [
    "cols_to_drop = [\n",
    "        'Id', 'MSSubClass', 'Alley', 'MiscFeature', 'PoolQC', 'BsmtQual', \n",
    "        'BsmtCond', 'BsmtExposure', 'BsmtFinType1', 'BsmtFinSF1', \n",
    "        'BsmtFinType2', 'BsmtFinSF2', 'BsmtUnfSF', 'TotalBsmtSF', \n",
    "        'BsmtFullBath', 'BsmtHalfBath', \n",
    "        'Heating', 'HeatingQC', \n",
    "        'WoodDeckSF', 'OpenPorchSF', 'EnclosedPorch', \n",
    "        '3SsnPorch', 'ScreenPorch', \n",
    "        'SaleType', 'SaleCondition', 'Fence', 'Electrical', 'FireplaceQu', \n",
    "        'Fireplaces', 'PoolArea', 'CentralAir', 'MoSold', 'PavedDrive', 'Condition1', 'Condition2',\n",
    "        'HouseStyle', 'RoofStyle', 'RoofMatl', 'Functional', 'GarageFinish', 'GarageCond', 'GarageYrBlt'\n",
    "        'Exterior2nd', 'MasVnrType', 'YearRemodAdd', 'MasVnrArea', '1stFlrSF', '2ndFlrSF', 'LowQualFinSF',\n",
    "        'TotRmsAbvGrd', 'GarageYrBlt', 'GarageArea', 'YrSold', 'KitchenAbvGr'\n",
    "    ]\n",
    "\n",
    "\n",
    "df = df.drop(columns=cols_to_drop, errors='ignore')"
   ]
  },
  {
   "cell_type": "code",
   "execution_count": 4,
   "id": "fd242f55-4147-4369-98e5-4492faaee078",
   "metadata": {},
   "outputs": [],
   "source": [
    "df = df[~(df[['FullBath', 'BedroomAbvGr']] == 0).any(axis=1)]"
   ]
  },
  {
   "cell_type": "code",
   "execution_count": 5,
   "id": "e7a11062-3dde-4896-b4ef-3d80bb14af47",
   "metadata": {},
   "outputs": [
    {
     "name": "stdout",
     "output_type": "stream",
     "text": [
      "0\n"
     ]
    }
   ],
   "source": [
    "moda_del_barrio = df.groupby('Neighborhood')['LotFrontage'].agg(lambda x: x.mode()[0])\n",
    "\n",
    "## Reemplazo los valores nulos por el valor de moda del barrio\n",
    "df = df.copy()\n",
    "df['LotFrontage'] = df['LotFrontage'].fillna(df['Neighborhood'].map(moda_del_barrio))\n",
    "\n",
    "print(df['LotFrontage'].isnull().sum())"
   ]
  },
  {
   "cell_type": "code",
   "execution_count": 6,
   "id": "27b80546-69f4-403e-a2da-7441bcc492d6",
   "metadata": {},
   "outputs": [
    {
     "name": "stdout",
     "output_type": "stream",
     "text": [
      "29\n"
     ]
    }
   ],
   "source": [
    "df.columns\n",
    "print(len(df.columns))"
   ]
  },
  {
   "cell_type": "code",
   "execution_count": 7,
   "id": "2754ec44-697c-483e-9270-b1b99eec15d0",
   "metadata": {},
   "outputs": [],
   "source": [
    "cols_num = [col for col, dtype in df.dtypes.items() if dtype == 'float64' or dtype == 'int64']\n",
    "\n",
    "df_num = df[cols_num].copy()\n",
    "\n",
    "cols_ordinales = [\n",
    "    'Utilities', 'ExterQual',  'KitchenQual', 'GarageQual', \n",
    "    'Neighborhood', 'ExterCond'\n",
    "]\n",
    "\n",
    "df_ord = df[cols_ordinales].copy() \n",
    "\n",
    "utilities_orden = {\n",
    "    'ELO': 1,       # Electricity only\n",
    "    'NoSeWa': 2,    # Electricity and Gas Only\n",
    "    'NoSewr': 3,    # Electricity, Gas, and Water (Septic Tank)\n",
    "    'AllPub': 4     # All public Utilities (E,G,W,& S)\n",
    "}\n",
    "\n",
    "df_ord['Utilities'] = df_ord['Utilities'].astype(\"category\")\n",
    "df_ord['Utilities'] = df_ord['Utilities'].cat.set_categories(utilities_orden, ordered=True)\n",
    "df_ord['Utilities'] = df_ord['Utilities'].cat.codes\n",
    "\n",
    "exterqual_orden = {\n",
    "    'Po': 1,  # Poor\n",
    "    'Fa': 2,  # Fair\n",
    "    'TA': 3,  # Average/Typical\n",
    "    'Gd': 4,  # Good\n",
    "    'Ex': 5   # Excellent\n",
    "}\n",
    "\n",
    "df_ord['ExterQual'] = df_ord['ExterQual'].astype(\"category\")\n",
    "df_ord['ExterQual'] = df_ord['ExterQual'].cat.set_categories(exterqual_orden, ordered=True)\n",
    "df_ord['ExterQual'] = df_ord['ExterQual'].cat.codes\n",
    "\n",
    "\n",
    "kitchenqual_orden = {\n",
    "    'Po': 1,  # Poor\n",
    "    'Fa': 2,  # Fair\n",
    "    'TA': 3,  # Typical/Average\n",
    "    'Gd': 4,  # Good\n",
    "    'Ex': 5   # Excellent\n",
    "}\n",
    "\n",
    "df_ord['KitchenQual'] = df_ord['KitchenQual'].astype(\"category\")\n",
    "df_ord['KitchenQual'] = df_ord['KitchenQual'].cat.set_categories(kitchenqual_orden, ordered=True)\n",
    "df_ord['KitchenQual'] = df_ord['KitchenQual'].cat.codes\n",
    "\n",
    "\n",
    "\n",
    "\n",
    "\n",
    "\n",
    "garagequal_orden = {\n",
    "    'NoGarage': 0,  # No Garage\n",
    "    'Po': 1,        # Poor\n",
    "    'Fa': 2,        # Fair\n",
    "    'TA': 3,        # Typical/Average\n",
    "    'Gd': 4,        # Good\n",
    "    'Ex': 5         # Excellent\n",
    "}\n",
    "\n",
    "df_ord['GarageQual'] = df_ord['GarageQual'].astype(\"category\")\n",
    "df_ord['GarageQual'] = df_ord['GarageQual'].cat.set_categories(garagequal_orden, ordered=True)\n",
    "df_ord['GarageQual'] = df_ord['GarageQual'].cat.codes\n",
    "\n",
    "\n",
    "\n",
    "extercond_orden = {\n",
    "    'Po': 1,  # Poor\n",
    "    'Fa': 2,  # Fair\n",
    "    'TA': 3,  # Average/Typical\n",
    "    'Gd': 4,  # Good\n",
    "    'Ex': 5   # Excellent\n",
    "}\n",
    "\n",
    "df_ord['ExterCond'] = df_ord['ExterCond'].astype(\"category\")\n",
    "df_ord['ExterCond'] = df_ord['ExterCond'].cat.set_categories(extercond_orden, ordered=True)\n",
    "df_ord['ExterCond'] = df_ord['ExterCond'].cat.codes\n",
    "\n",
    "neighborhood_orden = {\n",
    "    'Green': 1,\n",
    "    'Yellow': 2,\n",
    "    'Orange': 3\n",
    "}\n",
    "\n",
    "df_ord['Neighborhood'] = df_ord['Neighborhood'].astype(\"category\")\n",
    "df_ord['Neighborhood'] = df_ord['Neighborhood'].cat.set_categories(neighborhood_orden, ordered=True)\n",
    "df_ord['Neighborhood'] = df_ord['Neighborhood'].cat.codes\n",
    "\n",
    "\n",
    "\n",
    "cols_nominales = [\n",
    "        'MSZoning', 'Street', 'LotShape', 'LandContour', 'LotConfig', 'LandSlope', \n",
    "        'BldgType', 'Exterior1st', 'Foundation', \n",
    "         'GarageType'\n",
    "    ]\n",
    "\n",
    "df_nomi = df[cols_nominales].copy()\n",
    "\n",
    "df_nomi = pd.get_dummies(df_nomi, drop_first=True)"
   ]
  },
  {
   "cell_type": "code",
   "execution_count": 8,
   "id": "a83f6409-6bf0-4b4b-8c14-412859318ed3",
   "metadata": {},
   "outputs": [],
   "source": [
    "df_concat = pd.concat([df_num, df_nomi, df_ord], axis=1)"
   ]
  },
  {
   "cell_type": "code",
   "execution_count": 9,
   "id": "f26a214c-7d8c-42e6-a0bf-0eff859f8843",
   "metadata": {},
   "outputs": [],
   "source": [
    "predictores_elegidos = ['LotArea', 'OverallQual', 'OverallCond', 'YearBuilt', 'GrLivArea',\n",
    "       'GarageCars', 'Exterior1st_BrkFace', 'KitchenQual']"
   ]
  },
  {
   "cell_type": "code",
   "execution_count": 10,
   "id": "e8afed46-b04f-401d-9b0c-bc07adf2e938",
   "metadata": {},
   "outputs": [],
   "source": [
    "X = df_concat.drop(columns=['SalePrice'])\n",
    "y = df_concat['SalePrice']\n",
    "\n",
    "X = X[predictores_elegidos]"
   ]
  },
  {
   "cell_type": "code",
   "execution_count": 11,
   "id": "fc715930-f2fb-4b52-90b0-ed7b995889d1",
   "metadata": {},
   "outputs": [],
   "source": [
    "X_train, X_test, y_train, y_test = train_test_split(X, y, test_size=0.2, random_state=42)"
   ]
  },
  {
   "cell_type": "code",
   "execution_count": 12,
   "id": "a56ca0dc-ecff-417f-99db-f0e3340b8949",
   "metadata": {},
   "outputs": [
    {
     "name": "stdout",
     "output_type": "stream",
     "text": [
      "['LotArea', 'OverallQual', 'OverallCond', 'YearBuilt', 'GrLivArea', 'GarageCars', 'Exterior1st_BrkFace', 'KitchenQual']\n"
     ]
    }
   ],
   "source": [
    "print(list(X_train.columns))"
   ]
  },
  {
   "cell_type": "code",
   "execution_count": 13,
   "id": "81c41a78-4b43-410c-924c-6d3dcf7a990c",
   "metadata": {},
   "outputs": [
    {
     "name": "stdout",
     "output_type": "stream",
     "text": [
      "Index(['LotArea', 'GrLivArea'], dtype='object')\n"
     ]
    }
   ],
   "source": [
    "## Para los modelos lineales debemos normalizar y escalar los datos numericos \n",
    "\n",
    "cols_para_sesgamiento = X_train[['LotArea', 'GrLivArea']]\n",
    "\n",
    "\n",
    "\n",
    "\n",
    "sesgamiento = cols_para_sesgamiento.skew().sort_values(ascending=False)\n",
    "\n",
    "cols_sesgadas = sesgamiento[abs(sesgamiento) > 0.5].index\n",
    "\n",
    "print(cols_sesgadas)"
   ]
  },
  {
   "cell_type": "code",
   "execution_count": null,
   "id": "8773c1f0-aa7a-4543-b22f-12701857720d",
   "metadata": {},
   "outputs": [],
   "source": []
  },
  {
   "cell_type": "code",
   "execution_count": 14,
   "id": "db25dd85-5a07-4555-9d30-445b3b78e565",
   "metadata": {},
   "outputs": [],
   "source": [
    "X_train[cols_sesgadas] = np.log1p(X_train[cols_sesgadas])\n",
    "X_test[cols_sesgadas] = np.log1p(X_test[cols_sesgadas])"
   ]
  },
  {
   "cell_type": "code",
   "execution_count": 15,
   "id": "d60a1c06-a57f-4293-a547-58f0431fcd29",
   "metadata": {},
   "outputs": [],
   "source": [
    "y_train = np.log1p(y_train)\n",
    "y_test = np.log1p(y_test)"
   ]
  },
  {
   "cell_type": "code",
   "execution_count": 16,
   "id": "d31250a1-e923-4edf-91e3-58b73809fef3",
   "metadata": {},
   "outputs": [
    {
     "data": {
      "text/plain": [
       "['linearScaler.pkl']"
      ]
     },
     "execution_count": 16,
     "metadata": {},
     "output_type": "execute_result"
    }
   ],
   "source": [
    "scaler = StandardScaler()\n",
    "\n",
    "cols_para_escalar = ['LotArea', 'OverallQual', 'YearBuilt', 'GrLivArea', 'GarageCars', 'KitchenQual', 'OverallCond']\n",
    "\n",
    "X_train[cols_para_escalar] = scaler.fit_transform(X_train[cols_para_escalar])\n",
    "X_test[cols_para_escalar] = scaler.transform(X_test[cols_para_escalar])\n",
    "\n",
    "joblib.dump(scaler, 'linearScaler.pkl')"
   ]
  },
  {
   "cell_type": "code",
   "execution_count": 17,
   "id": "02df83d0-6e9f-452a-acf8-0a413a6b338b",
   "metadata": {},
   "outputs": [],
   "source": [
    "output_folder = \"processed_data/linear\"\n",
    "\n",
    "X_train.to_pickle(f\"{output_folder}/Xlm_train.pkl\")\n",
    "X_test.to_pickle(f\"{output_folder}/Xlm_test.pkl\")\n",
    "\n",
    "# Export train and test target variables\n",
    "y_train.to_pickle(f\"{output_folder}/ylm_train.pkl\")\n",
    "y_test.to_pickle(f\"{output_folder}/ylm_test.pkl\")"
   ]
  },
  {
   "cell_type": "code",
   "execution_count": 18,
   "id": "b2254cc1-2297-4aaf-97b1-493e3a4e7d48",
   "metadata": {},
   "outputs": [
    {
     "name": "stdout",
     "output_type": "stream",
     "text": [
      "\n"
     ]
    }
   ],
   "source": [
    "feature_names = list(X_train.columns)\n",
    "print()\n",
    "\n",
    "# Save to JSON\n",
    "with open(\"en_features.json\", \"w\") as f:\n",
    "    json.dump(feature_names, f)"
   ]
  },
  {
   "cell_type": "code",
   "execution_count": 19,
   "id": "ed0f0344-55d1-4662-a9ea-75299cb2e42f",
   "metadata": {},
   "outputs": [
    {
     "name": "stdout",
     "output_type": "stream",
     "text": [
      "['LotArea', 'OverallQual', 'OverallCond', 'YearBuilt', 'GrLivArea', 'GarageCars', 'Exterior1st_BrkFace', 'KitchenQual']\n"
     ]
    }
   ],
   "source": [
    "print(list(X_train.columns))"
   ]
  },
  {
   "cell_type": "code",
   "execution_count": null,
   "id": "c31af1a6-20bf-492c-be3f-520ef155d718",
   "metadata": {},
   "outputs": [],
   "source": []
  }
 ],
 "metadata": {
  "kernelspec": {
   "display_name": "Python 3 (ipykernel)",
   "language": "python",
   "name": "python3"
  },
  "language_info": {
   "codemirror_mode": {
    "name": "ipython",
    "version": 3
   },
   "file_extension": ".py",
   "mimetype": "text/x-python",
   "name": "python",
   "nbconvert_exporter": "python",
   "pygments_lexer": "ipython3",
   "version": "3.12.3"
  }
 },
 "nbformat": 4,
 "nbformat_minor": 5
}
