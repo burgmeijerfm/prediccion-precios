{
 "cells": [
  {
   "cell_type": "code",
   "execution_count": 2,
   "id": "b049b62b-1fff-4628-8591-c12c0068b7fa",
   "metadata": {},
   "outputs": [],
   "source": [
    "import xgboost as xgb\n",
    "from sklearn.metrics import rootmean_squared_error\n",
    "import numpy as np\n"
   ]
  },
  {
   "cell_type": "code",
   "execution_count": null,
   "id": "1a0e69c8-38e1-4c17-96eb-ac91047df259",
   "metadata": {},
   "outputs": [],
   "source": [
    "X_train = pd.read_pickle(\"dataset/processed_data/rf/Xlm_train.pkl\")\n",
    "X_test = pd.read_pickle(\"dataset/processed_data/rf/Xlm_test.pkl\")\n",
    "y_train = pd.read_pickle(\"dataset/processed_data/rf/ylm_train.pkl\")\n",
    "y_test = pd.read_pickle(\"dataset/processed_data/rf/ylm_test.pkl\")"
   ]
  }
 ],
 "metadata": {
  "kernelspec": {
   "display_name": "Python 3 (ipykernel)",
   "language": "python",
   "name": "python3"
  },
  "language_info": {
   "codemirror_mode": {
    "name": "ipython",
    "version": 3
   },
   "file_extension": ".py",
   "mimetype": "text/x-python",
   "name": "python",
   "nbconvert_exporter": "python",
   "pygments_lexer": "ipython3",
   "version": "3.12.3"
  }
 },
 "nbformat": 4,
 "nbformat_minor": 5
}
