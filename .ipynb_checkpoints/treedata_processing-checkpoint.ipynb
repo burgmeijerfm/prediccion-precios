{
 "cells": [
  {
   "cell_type": "code",
   "execution_count": 1,
   "id": "232eaac4-e464-413d-a71e-3ebc5e54bc6e",
   "metadata": {},
   "outputs": [],
   "source": [
    "import numpy as np\n",
    "import pandas as pd\n",
    "import matplotlib as plt\n",
    "import seaborn as sns\n",
    "from sklearn.model_selection import train_test_split"
   ]
  },
  {
   "cell_type": "code",
   "execution_count": 2,
   "id": "31c672e7-74c1-4bad-b9fa-dd99815683ef",
   "metadata": {},
   "outputs": [],
   "source": [
    "df=pd.read_csv('dataset/train.csv')"
   ]
  },
  {
   "cell_type": "code",
   "execution_count": 3,
   "id": "826aeb32-9740-49bd-88c3-6cb9d2d854c2",
   "metadata": {},
   "outputs": [],
   "source": [
    "cols_to_drop = [\n",
    "        'Id', 'Alley', 'MiscFeature', 'PoolQC', 'BsmtQual', 'BsmtCond', 'BsmtExposure', 'BsmtFinType1', 'BsmtFinSF1', \n",
    "        'BsmtFinType2', 'BsmtFinSF2', 'BsmtUnfSF', 'TotalBsmtSF', \n",
    "        'BsmtFullBath', 'BsmtHalfBath', \n",
    "        'Heating', 'HeatingQC', \n",
    "        'WoodDeckSF', 'OpenPorchSF', 'EnclosedPorch', \n",
    "        '3SsnPorch', 'ScreenPorch', \n",
    "        'SaleType', 'SaleCondition', 'Fence', 'Electrical', 'FireplaceQu'\n",
    "    ]\n",
    "\n",
    "\n",
    "df = df.drop(columns=cols_to_drop, errors='ignore')"
   ]
  },
  {
   "cell_type": "code",
   "execution_count": 4,
   "id": "85e43659-f8b5-4316-a6e1-b4fc29d67e04",
   "metadata": {},
   "outputs": [
    {
     "name": "stdout",
     "output_type": "stream",
     "text": [
      "LotFrontage     259\n",
      "MasVnrType      872\n",
      "GarageType       81\n",
      "GarageFinish     81\n",
      "GarageQual       81\n",
      "GarageCond       81\n",
      "dtype: int64\n"
     ]
    }
   ],
   "source": [
    "cols_null_a_cero = ['MasVnrArea', 'GarageYrBlt']\n",
    "\n",
    "for col in cols_null_a_cero:\n",
    "    df[col] = df[col].fillna(0)\n",
    "\n",
    "print(df.isnull().sum()[df.isnull().sum() > 0])"
   ]
  },
  {
   "cell_type": "code",
   "execution_count": 5,
   "id": "e7a11062-3dde-4896-b4ef-3d80bb14af47",
   "metadata": {},
   "outputs": [
    {
     "name": "stdout",
     "output_type": "stream",
     "text": [
      "0\n"
     ]
    }
   ],
   "source": [
    "moda_del_barrio = df.groupby('Neighborhood')['LotFrontage'].agg(lambda x: x.mode()[0])\n",
    "\n",
    "## Reemplazo los valores nulos por el valor de moda del barrio\n",
    "df = df.copy()\n",
    "df['LotFrontage'] = df['LotFrontage'].fillna(df['Neighborhood'].map(moda_del_barrio))\n",
    "\n",
    "print(df['LotFrontage'].isnull().sum())"
   ]
  },
  {
   "cell_type": "code",
   "execution_count": 6,
   "id": "27b80546-69f4-403e-a2da-7441bcc492d6",
   "metadata": {},
   "outputs": [
    {
     "name": "stdout",
     "output_type": "stream",
     "text": [
      "54\n"
     ]
    }
   ],
   "source": [
    "df.columns\n",
    "print(len(df.columns))"
   ]
  },
  {
   "cell_type": "code",
   "execution_count": 7,
   "id": "2754ec44-697c-483e-9270-b1b99eec15d0",
   "metadata": {},
   "outputs": [
    {
     "ename": "KeyError",
     "evalue": "'Electrical'",
     "output_type": "error",
     "traceback": [
      "\u001b[0;31m---------------------------------------------------------------------------\u001b[0m",
      "\u001b[0;31mKeyError\u001b[0m                                  Traceback (most recent call last)",
      "File \u001b[0;32m~/Desktop/Trabajo/prediccion-precios/.venv/lib/python3.12/site-packages/pandas/core/indexes/base.py:3805\u001b[0m, in \u001b[0;36mIndex.get_loc\u001b[0;34m(self, key)\u001b[0m\n\u001b[1;32m   3804\u001b[0m \u001b[38;5;28;01mtry\u001b[39;00m:\n\u001b[0;32m-> 3805\u001b[0m     \u001b[38;5;28;01mreturn\u001b[39;00m \u001b[38;5;28;43mself\u001b[39;49m\u001b[38;5;241;43m.\u001b[39;49m\u001b[43m_engine\u001b[49m\u001b[38;5;241;43m.\u001b[39;49m\u001b[43mget_loc\u001b[49m\u001b[43m(\u001b[49m\u001b[43mcasted_key\u001b[49m\u001b[43m)\u001b[49m\n\u001b[1;32m   3806\u001b[0m \u001b[38;5;28;01mexcept\u001b[39;00m \u001b[38;5;167;01mKeyError\u001b[39;00m \u001b[38;5;28;01mas\u001b[39;00m err:\n",
      "File \u001b[0;32mindex.pyx:167\u001b[0m, in \u001b[0;36mpandas._libs.index.IndexEngine.get_loc\u001b[0;34m()\u001b[0m\n",
      "File \u001b[0;32mindex.pyx:196\u001b[0m, in \u001b[0;36mpandas._libs.index.IndexEngine.get_loc\u001b[0;34m()\u001b[0m\n",
      "File \u001b[0;32mpandas/_libs/hashtable_class_helper.pxi:7081\u001b[0m, in \u001b[0;36mpandas._libs.hashtable.PyObjectHashTable.get_item\u001b[0;34m()\u001b[0m\n",
      "File \u001b[0;32mpandas/_libs/hashtable_class_helper.pxi:7089\u001b[0m, in \u001b[0;36mpandas._libs.hashtable.PyObjectHashTable.get_item\u001b[0;34m()\u001b[0m\n",
      "\u001b[0;31mKeyError\u001b[0m: 'Electrical'",
      "\nThe above exception was the direct cause of the following exception:\n",
      "\u001b[0;31mKeyError\u001b[0m                                  Traceback (most recent call last)",
      "Cell \u001b[0;32mIn[7], line 43\u001b[0m\n\u001b[1;32m     33\u001b[0m df_ord[\u001b[38;5;124m'\u001b[39m\u001b[38;5;124mExterQual\u001b[39m\u001b[38;5;124m'\u001b[39m] \u001b[38;5;241m=\u001b[39m df_ord[\u001b[38;5;124m'\u001b[39m\u001b[38;5;124mExterQual\u001b[39m\u001b[38;5;124m'\u001b[39m]\u001b[38;5;241m.\u001b[39mcat\u001b[38;5;241m.\u001b[39mcodes\n\u001b[1;32m     35\u001b[0m electrical_orden \u001b[38;5;241m=\u001b[39m {\n\u001b[1;32m     36\u001b[0m     \u001b[38;5;124m'\u001b[39m\u001b[38;5;124mMix\u001b[39m\u001b[38;5;124m'\u001b[39m: \u001b[38;5;241m1\u001b[39m,    \u001b[38;5;66;03m# Mixed\u001b[39;00m\n\u001b[1;32m     37\u001b[0m     \u001b[38;5;124m'\u001b[39m\u001b[38;5;124mFuseP\u001b[39m\u001b[38;5;124m'\u001b[39m: \u001b[38;5;241m2\u001b[39m,  \u001b[38;5;66;03m# 60 AMP Fuse Box and mostly knob & tube wiring (poor)\u001b[39;00m\n\u001b[0;32m   (...)\u001b[0m\n\u001b[1;32m     40\u001b[0m     \u001b[38;5;124m'\u001b[39m\u001b[38;5;124mSBrkr\u001b[39m\u001b[38;5;124m'\u001b[39m: \u001b[38;5;241m5\u001b[39m   \u001b[38;5;66;03m# Standard Circuit Breakers & Romex (best)\u001b[39;00m\n\u001b[1;32m     41\u001b[0m }\n\u001b[0;32m---> 43\u001b[0m df_ord[\u001b[38;5;124m'\u001b[39m\u001b[38;5;124mElectrical\u001b[39m\u001b[38;5;124m'\u001b[39m] \u001b[38;5;241m=\u001b[39m \u001b[43mdf_ord\u001b[49m\u001b[43m[\u001b[49m\u001b[38;5;124;43m'\u001b[39;49m\u001b[38;5;124;43mElectrical\u001b[39;49m\u001b[38;5;124;43m'\u001b[39;49m\u001b[43m]\u001b[49m\u001b[38;5;241m.\u001b[39mastype(\u001b[38;5;124m\"\u001b[39m\u001b[38;5;124mcategory\u001b[39m\u001b[38;5;124m\"\u001b[39m)\n\u001b[1;32m     44\u001b[0m df_ord[\u001b[38;5;124m'\u001b[39m\u001b[38;5;124mElectrical\u001b[39m\u001b[38;5;124m'\u001b[39m] \u001b[38;5;241m=\u001b[39m df_ord[\u001b[38;5;124m'\u001b[39m\u001b[38;5;124mElectrical\u001b[39m\u001b[38;5;124m'\u001b[39m]\u001b[38;5;241m.\u001b[39mcat\u001b[38;5;241m.\u001b[39mset_categories(utilities_orden, ordered\u001b[38;5;241m=\u001b[39m\u001b[38;5;28;01mTrue\u001b[39;00m)\n\u001b[1;32m     45\u001b[0m df_ord[\u001b[38;5;124m'\u001b[39m\u001b[38;5;124mElectrical\u001b[39m\u001b[38;5;124m'\u001b[39m] \u001b[38;5;241m=\u001b[39m df_ord[\u001b[38;5;124m'\u001b[39m\u001b[38;5;124mElectrical\u001b[39m\u001b[38;5;124m'\u001b[39m]\u001b[38;5;241m.\u001b[39mcat\u001b[38;5;241m.\u001b[39mcodes\n",
      "File \u001b[0;32m~/Desktop/Trabajo/prediccion-precios/.venv/lib/python3.12/site-packages/pandas/core/frame.py:4102\u001b[0m, in \u001b[0;36mDataFrame.__getitem__\u001b[0;34m(self, key)\u001b[0m\n\u001b[1;32m   4100\u001b[0m \u001b[38;5;28;01mif\u001b[39;00m \u001b[38;5;28mself\u001b[39m\u001b[38;5;241m.\u001b[39mcolumns\u001b[38;5;241m.\u001b[39mnlevels \u001b[38;5;241m>\u001b[39m \u001b[38;5;241m1\u001b[39m:\n\u001b[1;32m   4101\u001b[0m     \u001b[38;5;28;01mreturn\u001b[39;00m \u001b[38;5;28mself\u001b[39m\u001b[38;5;241m.\u001b[39m_getitem_multilevel(key)\n\u001b[0;32m-> 4102\u001b[0m indexer \u001b[38;5;241m=\u001b[39m \u001b[38;5;28;43mself\u001b[39;49m\u001b[38;5;241;43m.\u001b[39;49m\u001b[43mcolumns\u001b[49m\u001b[38;5;241;43m.\u001b[39;49m\u001b[43mget_loc\u001b[49m\u001b[43m(\u001b[49m\u001b[43mkey\u001b[49m\u001b[43m)\u001b[49m\n\u001b[1;32m   4103\u001b[0m \u001b[38;5;28;01mif\u001b[39;00m is_integer(indexer):\n\u001b[1;32m   4104\u001b[0m     indexer \u001b[38;5;241m=\u001b[39m [indexer]\n",
      "File \u001b[0;32m~/Desktop/Trabajo/prediccion-precios/.venv/lib/python3.12/site-packages/pandas/core/indexes/base.py:3812\u001b[0m, in \u001b[0;36mIndex.get_loc\u001b[0;34m(self, key)\u001b[0m\n\u001b[1;32m   3807\u001b[0m     \u001b[38;5;28;01mif\u001b[39;00m \u001b[38;5;28misinstance\u001b[39m(casted_key, \u001b[38;5;28mslice\u001b[39m) \u001b[38;5;129;01mor\u001b[39;00m (\n\u001b[1;32m   3808\u001b[0m         \u001b[38;5;28misinstance\u001b[39m(casted_key, abc\u001b[38;5;241m.\u001b[39mIterable)\n\u001b[1;32m   3809\u001b[0m         \u001b[38;5;129;01mand\u001b[39;00m \u001b[38;5;28many\u001b[39m(\u001b[38;5;28misinstance\u001b[39m(x, \u001b[38;5;28mslice\u001b[39m) \u001b[38;5;28;01mfor\u001b[39;00m x \u001b[38;5;129;01min\u001b[39;00m casted_key)\n\u001b[1;32m   3810\u001b[0m     ):\n\u001b[1;32m   3811\u001b[0m         \u001b[38;5;28;01mraise\u001b[39;00m InvalidIndexError(key)\n\u001b[0;32m-> 3812\u001b[0m     \u001b[38;5;28;01mraise\u001b[39;00m \u001b[38;5;167;01mKeyError\u001b[39;00m(key) \u001b[38;5;28;01mfrom\u001b[39;00m \u001b[38;5;21;01merr\u001b[39;00m\n\u001b[1;32m   3813\u001b[0m \u001b[38;5;28;01mexcept\u001b[39;00m \u001b[38;5;167;01mTypeError\u001b[39;00m:\n\u001b[1;32m   3814\u001b[0m     \u001b[38;5;66;03m# If we have a listlike key, _check_indexing_error will raise\u001b[39;00m\n\u001b[1;32m   3815\u001b[0m     \u001b[38;5;66;03m#  InvalidIndexError. Otherwise we fall through and re-raise\u001b[39;00m\n\u001b[1;32m   3816\u001b[0m     \u001b[38;5;66;03m#  the TypeError.\u001b[39;00m\n\u001b[1;32m   3817\u001b[0m     \u001b[38;5;28mself\u001b[39m\u001b[38;5;241m.\u001b[39m_check_indexing_error(key)\n",
      "\u001b[0;31mKeyError\u001b[0m: 'Electrical'"
     ]
    }
   ],
   "source": [
    "cols_num = [col for col, dtype in df.dtypes.items() if dtype == 'float64' or dtype == 'int64']\n",
    "\n",
    "df_num = df[cols_num].copy()\n",
    "\n",
    "cols_ordinales = [\n",
    "    'Utilities', 'ExterQual', 'KitchenQual', 'Functional',  'GarageFinish', 'GarageQual', 'GarageCond', \n",
    "    'Neighborhood', 'ExterCond'\n",
    "]\n",
    "\n",
    "df_ord = df[cols_ordinales].copy() \n",
    "\n",
    "utilities_orden = {\n",
    "    'ELO': 1,       # Electricity only\n",
    "    'NoSeWa': 2,    # Electricity and Gas Only\n",
    "    'NoSewr': 3,    # Electricity, Gas, and Water (Septic Tank)\n",
    "    'AllPub': 4     # All public Utilities (E,G,W,& S)\n",
    "}\n",
    "\n",
    "df_ord['Utilities'] = df_ord['Utilities'].astype(\"category\")\n",
    "df_ord['Utilities'] = df_ord['Utilities'].cat.set_categories(utilities_orden, ordered=True)\n",
    "df_ord['Utilities'] = df_ord['Utilities'].cat.codes\n",
    "\n",
    "exterqual_orden = {\n",
    "    'Po': 1,  # Poor\n",
    "    'Fa': 2,  # Fair\n",
    "    'TA': 3,  # Average/Typical\n",
    "    'Gd': 4,  # Good\n",
    "    'Ex': 5   # Excellent\n",
    "}\n",
    "\n",
    "df_ord['ExterQual'] = df_ord['ExterQual'].astype(\"category\")\n",
    "df_ord['ExterQual'] = df_ord['ExterQual'].cat.set_categories(exterqual_orden, ordered=True)\n",
    "df_ord['ExterQual'] = df_ord['ExterQual'].cat.codes\n",
    "\n",
    "\n",
    "\n",
    "kitchenqual_orden = {\n",
    "    'Po': 1,  # Poor\n",
    "    'Fa': 2,  # Fair\n",
    "    'TA': 3,  # Typical/Average\n",
    "    'Gd': 4,  # Good\n",
    "    'Ex': 5   # Excellent\n",
    "}\n",
    "\n",
    "df_ord['KitchenQual'] = df_ord['KitchenQual'].astype(\"category\")\n",
    "df_ord['KitchenQual'] = df_ord['KitchenQual'].cat.set_categories(kitchenqual_orden, ordered=True)\n",
    "df_ord['KitchenQual'] = df_ord['KitchenQual'].cat.codes\n",
    "\n",
    "functional_orden = {\n",
    "    'Sal': 1,  # Salvage only\n",
    "    'Sev': 2,  # Severely Damaged\n",
    "    'Maj2': 3, # Major Deductions 2\n",
    "    'Maj1': 4, # Major Deductions 1\n",
    "    'Mod': 5,  # Moderate Deductions\n",
    "    'Min2': 6, # Minor Deductions 2\n",
    "    'Min1': 7, # Minor Deductions 1\n",
    "    'Typ': 8   # Typical Functionality\n",
    "}\n",
    "\n",
    "df_ord['Functional'] = df_ord['Functional'].astype(\"category\")\n",
    "df_ord['Functional'] = df_ord['Functional'].cat.set_categories(functional_orden, ordered=True)\n",
    "df_ord['Functional'] = df_ord['Functional'].cat.codes\n",
    "\n",
    "\n",
    "fireplacequ_orden = {\n",
    "    'NoFireplace': 0,  # No Fireplace\n",
    "    'Po': 1,           # Poor\n",
    "    'Fa': 2,           # Fair\n",
    "    'TA': 3,           # Average\n",
    "    'Gd': 4,           # Good\n",
    "    'Ex': 5            # Excellent\n",
    "}\n",
    "\n",
    "df_ord['FireplaceQu'] = df_ord['FireplaceQu'].astype(\"category\")\n",
    "df_ord['FireplaceQu'] = df_ord['FireplaceQu'].cat.set_categories(fireplacequ_orden, ordered=True)\n",
    "df_ord['FireplaceQu'] = df_ord['FireplaceQu'].cat.codes\n",
    "\n",
    "garagefinish_orden = {\n",
    "    'NoGarage': 0,   # No Garage\n",
    "    'Unf': 1,        # Unfinished\n",
    "    'RFn': 2,        # Rough Finished\n",
    "    'Fin': 3         # Finished\n",
    "}\n",
    "\n",
    "df_ord['GarageFinish'] = df_ord['GarageFinish'].astype(\"category\")\n",
    "df_ord['GarageFinish'] = df_ord['GarageFinish'].cat.set_categories(garagefinish_orden, ordered=True)\n",
    "df_ord['GarageFinish'] = df_ord['GarageFinish'].cat.codes\n",
    "\n",
    "garagequal_orden = {\n",
    "    'NoGarage': 0,  # No Garage\n",
    "    'Po': 1,        # Poor\n",
    "    'Fa': 2,        # Fair\n",
    "    'TA': 3,        # Typical/Average\n",
    "    'Gd': 4,        # Good\n",
    "    'Ex': 5         # Excellent\n",
    "}\n",
    "\n",
    "df_ord['GarageQual'] = df_ord['GarageQual'].astype(\"category\")\n",
    "df_ord['GarageQual'] = df_ord['GarageQual'].cat.set_categories(garagequal_orden, ordered=True)\n",
    "df_ord['GarageQual'] = df_ord['GarageQual'].cat.codes\n",
    "\n",
    "garagecond_orden = {\n",
    "    'NoGarage': 0,  # No Garage\n",
    "    'Po': 1,        # Poor\n",
    "    'Fa': 2,        # Fair\n",
    "    'TA': 3,        # Typical/Average\n",
    "    'Gd': 4,        # Good\n",
    "    'Ex': 5         # Excellent\n",
    "}\n",
    "\n",
    "df_ord['GarageCond'] = df_ord['GarageCond'].astype(\"category\")\n",
    "df_ord['GarageCond'] = df_ord['GarageCond'].cat.set_categories(garagecond_orden, ordered=True)\n",
    "df_ord['GarageCond'] = df_ord['GarageCond'].cat.codes\n",
    "\n",
    "\n",
    "extercond_orden = {\n",
    "    'Po': 1,  # Poor\n",
    "    'Fa': 2,  # Fair\n",
    "    'TA': 3,  # Average/Typical\n",
    "    'Gd': 4,  # Good\n",
    "    'Ex': 5   # Excellent\n",
    "}\n",
    "\n",
    "df_ord['ExterCond'] = df_ord['ExterCond'].astype(\"category\")\n",
    "df_ord['ExterCond'] = df_ord['ExterCond'].cat.set_categories(extercond_orden, ordered=True)\n",
    "df_ord['ExterCond'] = df_ord['ExterCond'].cat.codes\n",
    "\n",
    "neighborhood_orden = {\n",
    "    'Green': 1,\n",
    "    'Yellow': 2,\n",
    "    'Orange': 3\n",
    "}\n",
    "\n",
    "df_ord['Neighborhood'] = df_ord['Neighborhood'].astype(\"category\")\n",
    "df_ord['Neighborhood'] = df_ord['Neighborhood'].cat.set_categories(neighborhood_orden, ordered=True)\n",
    "df_ord['Neighborhood'] = df_ord['Neighborhood'].cat.codes\n",
    "\n",
    "\n",
    "\n",
    "cols_nominales = [\n",
    "        'MSZoning', 'Street', 'LotShape', 'LandContour', 'LotConfig', 'LandSlope', 'Condition1', 'Condition2', \n",
    "        'BldgType', 'HouseStyle', 'RoofStyle', 'RoofMatl', 'Exterior1st', 'Exterior2nd', 'MasVnrType', 'Foundation', \n",
    "        'CentralAir', 'GarageType', 'PavedDrive', 'MasVnrType', 'GarageType'\n",
    "    ]\n",
    "\n",
    "df_nomi = df[cols_nominales].copy()\n",
    "\n",
    "df_nomi = pd.get_dummies(df_nomi, drop_first=True)"
   ]
  },
  {
   "cell_type": "code",
   "execution_count": null,
   "id": "f4786b44-7022-4426-aeb0-3f76bb3c0f8a",
   "metadata": {},
   "outputs": [],
   "source": [
    "df_tree_ready = pd.concat([df_num, df_ord, df_nomi], axis=1 )"
   ]
  },
  {
   "cell_type": "code",
   "execution_count": null,
   "id": "68f9a9d5-3c68-458e-8104-37e514593418",
   "metadata": {},
   "outputs": [],
   "source": [
    "print(df_tree_ready.isnull().sum()[df_tree_ready.isnull().sum() > 0])"
   ]
  },
  {
   "cell_type": "code",
   "execution_count": null,
   "id": "7a26fe36-b684-4782-99aa-70504ce5e7c8",
   "metadata": {},
   "outputs": [],
   "source": [
    "X = df_tree_ready.drop(columns=['SalePrice'])\n",
    "y = df_tree_ready['SalePrice']\n",
    "\n",
    "X_train, X_test, y_train, y_test = train_test_split(X, y, test_size=0.2, random_state=42)"
   ]
  },
  {
   "cell_type": "code",
   "execution_count": null,
   "id": "d60a1c06-a57f-4293-a547-58f0431fcd29",
   "metadata": {},
   "outputs": [],
   "source": [
    "output_folder = \"dataset/processed_data/rf\"\n",
    "\n",
    "X_train.to_pickle(f\"{output_folder}/Xrf_train.pkl\", index=False)\n",
    "X_test.to_pickle(f\"{output_folder}/Xrf_test.pkl\", index=False)\n",
    "\n",
    "# Export train and test target variables\n",
    "y_train.to_pickle(f\"{output_folder}/yrf_train.pkl\", index=False)\n",
    "y_test.to_pickle(f\"{output_folder}/yrf_test.pkl\", index=False)"
   ]
  },
  {
   "cell_type": "code",
   "execution_count": null,
   "id": "86019fd3-7ea4-4d06-9e04-e636e76fb2bf",
   "metadata": {},
   "outputs": [],
   "source": []
  }
 ],
 "metadata": {
  "kernelspec": {
   "display_name": "Python 3 (ipykernel)",
   "language": "python",
   "name": "python3"
  },
  "language_info": {
   "codemirror_mode": {
    "name": "ipython",
    "version": 3
   },
   "file_extension": ".py",
   "mimetype": "text/x-python",
   "name": "python",
   "nbconvert_exporter": "python",
   "pygments_lexer": "ipython3",
   "version": "3.12.3"
  }
 },
 "nbformat": 4,
 "nbformat_minor": 5
}
