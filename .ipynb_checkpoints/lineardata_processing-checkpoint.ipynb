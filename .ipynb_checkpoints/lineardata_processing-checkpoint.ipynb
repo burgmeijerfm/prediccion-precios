{
 "cells": [
  {
   "cell_type": "code",
   "execution_count": 1,
   "id": "232eaac4-e464-413d-a71e-3ebc5e54bc6e",
   "metadata": {},
   "outputs": [],
   "source": [
    "import numpy as np\n",
    "import pandas as pd\n",
    "import matplotlib as plt\n",
    "import seaborn as sns\n",
    "from sklearn.model_selection import train_test_split\n",
    "from sklearn.preprocessing import StandardScaler"
   ]
  },
  {
   "cell_type": "code",
   "execution_count": 2,
   "id": "31c672e7-74c1-4bad-b9fa-dd99815683ef",
   "metadata": {},
   "outputs": [],
   "source": [
    "df=pd.read_csv('dataset/train.csv')"
   ]
  },
  {
   "cell_type": "code",
   "execution_count": 3,
   "id": "826aeb32-9740-49bd-88c3-6cb9d2d854c2",
   "metadata": {},
   "outputs": [],
   "source": [
    "cols_to_drop = [\n",
    "        'Id', 'MSSubClass', 'Alley', 'MiscFeature', 'PoolQC', 'BsmtQual', 'BsmtCond', 'BsmtExposure', 'BsmtFinType1', 'BsmtFinSF1', \n",
    "        'BsmtFinType2', 'BsmtFinSF2', 'BsmtUnfSF', 'TotalBsmtSF', \n",
    "        'BsmtFullBath', 'BsmtHalfBath', \n",
    "        'Heating', 'HeatingQC', \n",
    "        'WoodDeckSF', 'OpenPorchSF', 'EnclosedPorch', \n",
    "        '3SsnPorch', 'ScreenPorch', \n",
    "        'SaleType', 'SaleCondition', 'Fence', 'Electrical', 'FireplaceQu', 'Fireplaces', 'PoolArea', 'CentralAir', 'MoSold', 'PavedDrive'\n",
    "    ]\n",
    "\n",
    "\n",
    "df = df.drop(columns=cols_to_drop, errors='ignore')"
   ]
  },
  {
   "cell_type": "code",
   "execution_count": 4,
   "id": "85e43659-f8b5-4316-a6e1-b4fc29d67e04",
   "metadata": {},
   "outputs": [
    {
     "name": "stdout",
     "output_type": "stream",
     "text": [
      "LotFrontage     259\n",
      "MasVnrType      872\n",
      "GarageType       81\n",
      "GarageFinish     81\n",
      "GarageQual       81\n",
      "GarageCond       81\n",
      "dtype: int64\n"
     ]
    }
   ],
   "source": [
    "cols_null_a_cero = ['MasVnrArea', 'GarageYrBlt']\n",
    "\n",
    "for col in cols_null_a_cero:\n",
    "    df[col] = df[col].fillna(0)\n",
    "\n",
    "print(df.isnull().sum()[df.isnull().sum() > 0])"
   ]
  },
  {
   "cell_type": "code",
   "execution_count": 5,
   "id": "e7a11062-3dde-4896-b4ef-3d80bb14af47",
   "metadata": {},
   "outputs": [
    {
     "name": "stdout",
     "output_type": "stream",
     "text": [
      "0\n"
     ]
    }
   ],
   "source": [
    "moda_del_barrio = df.groupby('Neighborhood')['LotFrontage'].agg(lambda x: x.mode()[0])\n",
    "\n",
    "## Reemplazo los valores nulos por el valor de moda del barrio\n",
    "df = df.copy()\n",
    "df['LotFrontage'] = df['LotFrontage'].fillna(df['Neighborhood'].map(moda_del_barrio))\n",
    "\n",
    "print(df['LotFrontage'].isnull().sum())"
   ]
  },
  {
   "cell_type": "code",
   "execution_count": 6,
   "id": "27b80546-69f4-403e-a2da-7441bcc492d6",
   "metadata": {},
   "outputs": [
    {
     "name": "stdout",
     "output_type": "stream",
     "text": [
      "48\n"
     ]
    }
   ],
   "source": [
    "df.columns\n",
    "print(len(df.columns))"
   ]
  },
  {
   "cell_type": "code",
   "execution_count": 7,
   "id": "2754ec44-697c-483e-9270-b1b99eec15d0",
   "metadata": {},
   "outputs": [],
   "source": [
    "cols_num = [col for col, dtype in df.dtypes.items() if dtype == 'float64' or dtype == 'int64']\n",
    "\n",
    "df_num = df[cols_num].copy()\n",
    "\n",
    "cols_ordinales = [\n",
    "    'Utilities', 'ExterQual', 'KitchenQual', 'Functional', 'GarageFinish', 'GarageQual', 'GarageCond', \n",
    "    'Neighborhood', 'ExterCond'\n",
    "]\n",
    "\n",
    "df_ord = df[cols_ordinales].copy() \n",
    "\n",
    "utilities_orden = {\n",
    "    'ELO': 1,       # Electricity only\n",
    "    'NoSeWa': 2,    # Electricity and Gas Only\n",
    "    'NoSewr': 3,    # Electricity, Gas, and Water (Septic Tank)\n",
    "    'AllPub': 4     # All public Utilities (E,G,W,& S)\n",
    "}\n",
    "\n",
    "df_ord['Utilities'] = df_ord['Utilities'].astype(\"category\")\n",
    "df_ord['Utilities'] = df_ord['Utilities'].cat.set_categories(utilities_orden, ordered=True)\n",
    "df_ord['Utilities'] = df_ord['Utilities'].cat.codes\n",
    "\n",
    "exterqual_orden = {\n",
    "    'Po': 1,  # Poor\n",
    "    'Fa': 2,  # Fair\n",
    "    'TA': 3,  # Average/Typical\n",
    "    'Gd': 4,  # Good\n",
    "    'Ex': 5   # Excellent\n",
    "}\n",
    "\n",
    "df_ord['ExterQual'] = df_ord['ExterQual'].astype(\"category\")\n",
    "df_ord['ExterQual'] = df_ord['ExterQual'].cat.set_categories(exterqual_orden, ordered=True)\n",
    "df_ord['ExterQual'] = df_ord['ExterQual'].cat.codes\n",
    "\n",
    "\n",
    "kitchenqual_orden = {\n",
    "    'Po': 1,  # Poor\n",
    "    'Fa': 2,  # Fair\n",
    "    'TA': 3,  # Typical/Average\n",
    "    'Gd': 4,  # Good\n",
    "    'Ex': 5   # Excellent\n",
    "}\n",
    "\n",
    "df_ord['KitchenQual'] = df_ord['KitchenQual'].astype(\"category\")\n",
    "df_ord['KitchenQual'] = df_ord['KitchenQual'].cat.set_categories(kitchenqual_orden, ordered=True)\n",
    "df_ord['KitchenQual'] = df_ord['KitchenQual'].cat.codes\n",
    "\n",
    "functional_orden = {\n",
    "    'Sal': 1,  # Salvage only\n",
    "    'Sev': 2,  # Severely Damaged\n",
    "    'Maj2': 3, # Major Deductions 2\n",
    "    'Maj1': 4, # Major Deductions 1\n",
    "    'Mod': 5,  # Moderate Deductions\n",
    "    'Min2': 6, # Minor Deductions 2\n",
    "    'Min1': 7, # Minor Deductions 1\n",
    "    'Typ': 8   # Typical Functionality\n",
    "}\n",
    "\n",
    "df_ord['Functional'] = df_ord['Functional'].astype(\"category\")\n",
    "df_ord['Functional'] = df_ord['Functional'].cat.set_categories(functional_orden, ordered=True)\n",
    "df_ord['Functional'] = df_ord['Functional'].cat.codes\n",
    "\n",
    "\n",
    "\n",
    "garagefinish_orden = {\n",
    "    'NoGarage': 0,   # No Garage\n",
    "    'Unf': 1,        # Unfinished\n",
    "    'RFn': 2,        # Rough Finished\n",
    "    'Fin': 3         # Finished\n",
    "}\n",
    "\n",
    "df_ord['GarageFinish'] = df_ord['GarageFinish'].astype(\"category\")\n",
    "df_ord['GarageFinish'] = df_ord['GarageFinish'].cat.set_categories(garagefinish_orden, ordered=True)\n",
    "df_ord['GarageFinish'] = df_ord['GarageFinish'].cat.codes\n",
    "\n",
    "garagequal_orden = {\n",
    "    'NoGarage': 0,  # No Garage\n",
    "    'Po': 1,        # Poor\n",
    "    'Fa': 2,        # Fair\n",
    "    'TA': 3,        # Typical/Average\n",
    "    'Gd': 4,        # Good\n",
    "    'Ex': 5         # Excellent\n",
    "}\n",
    "\n",
    "df_ord['GarageQual'] = df_ord['GarageQual'].astype(\"category\")\n",
    "df_ord['GarageQual'] = df_ord['GarageQual'].cat.set_categories(garagequal_orden, ordered=True)\n",
    "df_ord['GarageQual'] = df_ord['GarageQual'].cat.codes\n",
    "\n",
    "garagecond_orden = {\n",
    "    'NoGarage': 0,  # No Garage\n",
    "    'Po': 1,        # Poor\n",
    "    'Fa': 2,        # Fair\n",
    "    'TA': 3,        # Typical/Average\n",
    "    'Gd': 4,        # Good\n",
    "    'Ex': 5         # Excellent\n",
    "}\n",
    "\n",
    "df_ord['GarageCond'] = df_ord['GarageCond'].astype(\"category\")\n",
    "df_ord['GarageCond'] = df_ord['GarageCond'].cat.set_categories(garagecond_orden, ordered=True)\n",
    "df_ord['GarageCond'] = df_ord['GarageCond'].cat.codes\n",
    "\n",
    "\n",
    "extercond_orden = {\n",
    "    'Po': 1,  # Poor\n",
    "    'Fa': 2,  # Fair\n",
    "    'TA': 3,  # Average/Typical\n",
    "    'Gd': 4,  # Good\n",
    "    'Ex': 5   # Excellent\n",
    "}\n",
    "\n",
    "df_ord['ExterCond'] = df_ord['ExterCond'].astype(\"category\")\n",
    "df_ord['ExterCond'] = df_ord['ExterCond'].cat.set_categories(extercond_orden, ordered=True)\n",
    "df_ord['ExterCond'] = df_ord['ExterCond'].cat.codes\n",
    "\n",
    "neighborhood_orden = {\n",
    "    'Green': 1,\n",
    "    'Yellow': 2,\n",
    "    'Orange': 3\n",
    "}\n",
    "\n",
    "df_ord['Neighborhood'] = df_ord['Neighborhood'].astype(\"category\")\n",
    "df_ord['Neighborhood'] = df_ord['Neighborhood'].cat.set_categories(neighborhood_orden, ordered=True)\n",
    "df_ord['Neighborhood'] = df_ord['Neighborhood'].cat.codes\n",
    "\n",
    "\n",
    "\n",
    "cols_nominales = [\n",
    "        'MSZoning', 'LotShape', 'LandContour', 'LotConfig', 'LandSlope', 'Condition1', 'Condition2', \n",
    "        'BldgType', 'HouseStyle', 'RoofStyle', 'RoofMatl', 'Exterior1st', 'Exterior2nd', 'MasVnrType', 'Foundation', \n",
    "        'GarageType', 'MasVnrType', 'GarageType', 'Street'\n",
    "    ]\n",
    "\n",
    "df_nomi = df[cols_nominales].copy()\n",
    "\n",
    "df_nomi = pd.get_dummies(df_nomi, drop_first=True)"
   ]
  },
  {
   "cell_type": "code",
   "execution_count": 8,
   "id": "a83f6409-6bf0-4b4b-8c14-412859318ed3",
   "metadata": {},
   "outputs": [],
   "source": [
    "df_concat = pd.concat([df_num, df_nomi, df_ord], axis=1)"
   ]
  },
  {
   "cell_type": "code",
   "execution_count": 9,
   "id": "e8afed46-b04f-401d-9b0c-bc07adf2e938",
   "metadata": {},
   "outputs": [],
   "source": [
    "X = df_concat.drop(columns=['SalePrice'])\n",
    "y = df_concat['SalePrice']\n",
    "\n",
    "X_train, X_test, y_train, y_test = train_test_split(X, y, test_size=0.2, random_state=42)"
   ]
  },
  {
   "cell_type": "code",
   "execution_count": 10,
   "id": "81c41a78-4b43-410c-924c-6d3dcf7a990c",
   "metadata": {},
   "outputs": [
    {
     "name": "stdout",
     "output_type": "stream",
     "text": [
      "Index(['MiscVal', 'LotArea', 'LowQualFinSF', 'KitchenAbvGr', 'MasVnrArea',\n",
      "       'LotFrontage', '1stFlrSF', 'GrLivArea', '2ndFlrSF', 'OverallCond',\n",
      "       'TotRmsAbvGrd', 'HalfBath', 'YearRemodAdd', 'YearBuilt', 'GarageYrBlt'],\n",
      "      dtype='object')\n"
     ]
    }
   ],
   "source": [
    "## Para los modelos lineales debemos normalizar y escalar los datos numericos \n",
    "\n",
    "cols_para_sesgamiento = df_num.copy()\n",
    "\n",
    "cols_para_sesgamiento = cols_para_sesgamiento.drop(columns=['SalePrice'])\n",
    "\n",
    "\n",
    "sesgamiento = cols_para_sesgamiento.skew().sort_values(ascending=False)\n",
    "\n",
    "cols_sesgadas = sesgamiento[abs(sesgamiento) > 0.5].index\n",
    "\n",
    "print(cols_sesgadas)"
   ]
  },
  {
   "cell_type": "code",
   "execution_count": 11,
   "id": "db25dd85-5a07-4555-9d30-445b3b78e565",
   "metadata": {},
   "outputs": [],
   "source": [
    "X_train[cols_sesgadas] = np.log1p(X_train[cols_sesgadas])\n",
    "X_test[cols_sesgadas] = np.log1p(X_test[cols_sesgadas])"
   ]
  },
  {
   "cell_type": "code",
   "execution_count": 12,
   "id": "d60a1c06-a57f-4293-a547-58f0431fcd29",
   "metadata": {},
   "outputs": [],
   "source": [
    "y_train = np.log1p(y_train)\n",
    "y_test = np.log1p(y_test)"
   ]
  },
  {
   "cell_type": "code",
   "execution_count": 13,
   "id": "d31250a1-e923-4edf-91e3-58b73809fef3",
   "metadata": {},
   "outputs": [],
   "source": [
    "scaler = StandardScaler()\n",
    "\n",
    "cols_para_escalar = df_num.drop(columns=['SalePrice']).columns\n",
    "\n",
    "X_train[cols_para_escalar] = scaler.fit_transform(X_train[cols_para_escalar])\n",
    "X_test[cols_para_escalar] = scaler.transform(X_test[cols_para_escalar])"
   ]
  },
  {
   "cell_type": "code",
   "execution_count": 14,
   "id": "02df83d0-6e9f-452a-acf8-0a413a6b338b",
   "metadata": {},
   "outputs": [],
   "source": [
    "output_folder = \"dataset/processed_data/linear\"\n",
    "\n",
    "X_train.to_pickle(f\"{output_folder}/Xlm_train.pkl\")\n",
    "X_test.to_pickle(f\"{output_folder}/Xlm_test.pkl\")\n",
    "\n",
    "# Export train and test target variables\n",
    "y_train.to_pickle(f\"{output_folder}/ylm_train.pkl\")\n",
    "y_test.to_pickle(f\"{output_folder}/ylm_test.pkl\")"
   ]
  },
  {
   "cell_type": "code",
   "execution_count": null,
   "id": "b2254cc1-2297-4aaf-97b1-493e3a4e7d48",
   "metadata": {},
   "outputs": [],
   "source": []
  },
  {
   "cell_type": "code",
   "execution_count": null,
   "id": "ed0f0344-55d1-4662-a9ea-75299cb2e42f",
   "metadata": {},
   "outputs": [],
   "source": []
  },
  {
   "cell_type": "code",
   "execution_count": null,
   "id": "c31af1a6-20bf-492c-be3f-520ef155d718",
   "metadata": {},
   "outputs": [],
   "source": []
  }
 ],
 "metadata": {
  "kernelspec": {
   "display_name": "Python 3 (ipykernel)",
   "language": "python",
   "name": "python3"
  },
  "language_info": {
   "codemirror_mode": {
    "name": "ipython",
    "version": 3
   },
   "file_extension": ".py",
   "mimetype": "text/x-python",
   "name": "python",
   "nbconvert_exporter": "python",
   "pygments_lexer": "ipython3",
   "version": "3.12.3"
  }
 },
 "nbformat": 4,
 "nbformat_minor": 5
}
